{
 "cells": [
  {
   "cell_type": "code",
   "execution_count": 7,
   "id": "5b24e123",
   "metadata": {},
   "outputs": [],
   "source": [
    "import spacy\n",
    "import json\n",
    "from spacy.training.example import Example"
   ]
  },
  {
   "cell_type": "code",
   "execution_count": 5,
   "id": "0e5f6832",
   "metadata": {},
   "outputs": [],
   "source": [
    "# load best model from conventional training\n",
    "nlp = spacy.load(r\"E:\\Work\\Data_Science\\Projects\\Custom_NER_Spacy3.5\\models\\model_1\\model-best\")"
   ]
  },
  {
   "cell_type": "code",
   "execution_count": 6,
   "id": "2a6445f2",
   "metadata": {},
   "outputs": [],
   "source": [
    "# load best model from conventional training\n",
    "nlp_trf = spacy.load(r\"E:\\Work\\Data_Science\\Projects\\Custom_NER_Spacy3.5\\models\\model_2\\model-best\")"
   ]
  },
  {
   "cell_type": "code",
   "execution_count": 9,
   "id": "006a6079",
   "metadata": {},
   "outputs": [],
   "source": [
    "def Evaluate(data, model):\n",
    "    examples = []\n",
    "    for text, annots in data:\n",
    "        doc = model(text)\n",
    "        examples.append(Example.from_dict(doc, annots))\n",
    "        res = nlp.evaluate(examples)\n",
    "#         for ele in doc.to_json()['ents']:\n",
    "#             label = ele['label']\n",
    "#             start = ele['start']\n",
    "#             end = ele['end']\n",
    "        return res"
   ]
  },
  {
   "cell_type": "code",
   "execution_count": 10,
   "id": "a7e63582",
   "metadata": {},
   "outputs": [],
   "source": [
    "# load test data\n",
    "with open(r'E:\\Work\\Data_Science\\Projects\\Custom_NER_Spacy3.5\\data\\Train\\test\\test_data_json.json', 'r') as f:\n",
    "    test_data_json = json.load(f)"
   ]
  },
  {
   "cell_type": "code",
   "execution_count": 11,
   "id": "f8f0e498",
   "metadata": {},
   "outputs": [
    {
     "name": "stdout",
     "output_type": "stream",
     "text": [
      "{'token_acc': 1.0, 'token_p': 1.0, 'token_r': 1.0, 'token_f': 1.0, 'ents_p': 0.6, 'ents_r': 0.5, 'ents_f': 0.5454545454545454, 'ents_per_type': {'B-geo': {'p': 0.3333333333333333, 'r': 1.0, 'f': 0.5}, 'B-org': {'p': 1.0, 'r': 0.5, 'f': 0.6666666666666666}, 'B-tim': {'p': 1.0, 'r': 1.0, 'f': 1.0}, 'I-org': {'p': 0.0, 'r': 0.0, 'f': 0.0}}, 'speed': 4622.385229959252}\n"
     ]
    }
   ],
   "source": [
    "result = Evaluate(test_data_json, nlp)\n",
    "print(result)"
   ]
  },
  {
   "cell_type": "code",
   "execution_count": 12,
   "id": "f44c8fe9",
   "metadata": {},
   "outputs": [
    {
     "name": "stdout",
     "output_type": "stream",
     "text": [
      "{'token_acc': 1.0, 'token_p': 1.0, 'token_r': 1.0, 'token_f': 1.0, 'ents_p': 0.2857142857142857, 'ents_r': 0.3333333333333333, 'ents_f': 0.30769230769230765, 'ents_per_type': {'B-tim': {'p': 0.0, 'r': 0.0, 'f': 0.0}, 'I-tim': {'p': 0.0, 'r': 0.0, 'f': 0.0}, 'B-geo': {'p': 0.4, 'r': 1.0, 'f': 0.5714285714285715}, 'B-org': {'p': 1.0, 'r': 0.5, 'f': 0.6666666666666666}, 'I-org': {'p': 0.0, 'r': 0.0, 'f': 0.0}}, 'speed': 3812.19025987339}\n"
     ]
    }
   ],
   "source": [
    "result_trf = Evaluate(test_data_json, nlp_trf)\n",
    "print(result_trf)"
   ]
  },
  {
   "cell_type": "code",
   "execution_count": null,
   "id": "f785e98b",
   "metadata": {},
   "outputs": [],
   "source": []
  }
 ],
 "metadata": {
  "kernelspec": {
   "display_name": "Python 3 (ipykernel)",
   "language": "python",
   "name": "python3"
  },
  "language_info": {
   "codemirror_mode": {
    "name": "ipython",
    "version": 3
   },
   "file_extension": ".py",
   "mimetype": "text/x-python",
   "name": "python",
   "nbconvert_exporter": "python",
   "pygments_lexer": "ipython3",
   "version": "3.10.4"
  }
 },
 "nbformat": 4,
 "nbformat_minor": 5
}
