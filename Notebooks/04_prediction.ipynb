{
 "cells": [
  {
   "cell_type": "markdown",
   "id": "0676742a",
   "metadata": {},
   "source": [
    "## Now let's run inference on our models"
   ]
  },
  {
   "cell_type": "code",
   "execution_count": 3,
   "id": "7b5a3da7",
   "metadata": {},
   "outputs": [],
   "source": [
    "import spacy"
   ]
  },
  {
   "cell_type": "markdown",
   "id": "7bc43391",
   "metadata": {},
   "source": [
    "### Inference on ner model"
   ]
  },
  {
   "cell_type": "code",
   "execution_count": 58,
   "id": "1d0e90d1",
   "metadata": {},
   "outputs": [],
   "source": [
    "def predict_ner(model, text):\n",
    "    print(text)\n",
    "    doc = model(text)\n",
    "    for ele in doc.to_json()['ents']:\n",
    "        label = ele['label']\n",
    "        start = ele['start']\n",
    "        end = ele['end']\n",
    "        val = text[start:end]\n",
    "        print(f'label: {label}, start: {start}, end: {end}, value: {val}')\n"
   ]
  },
  {
   "cell_type": "code",
   "execution_count": 59,
   "id": "257eef64",
   "metadata": {},
   "outputs": [],
   "source": [
    "text = r\"A number of heads of state were in the capital , La Paz , to witness Mr. Morales take the oath of office Sunday , including Chilean President Ricardo Lagos , Venezuela 's President Hugo Chavez and U.S. Assistant Secretary of State Thomas Shannon , the Bush administration 's top official for Latin America . A number of heads of state were in the capital , La Paz , to witness Mr. Morales take the oath of office Sunday , including Chilean President Ricardo Lagos , Venezuela 's President Hugo Chavez and U.S. Assistant Secretary of State Thomas Shannon , the Bush administration 's top official for Latin America .\" "
   ]
  },
  {
   "cell_type": "code",
   "execution_count": 61,
   "id": "b8a686a4",
   "metadata": {},
   "outputs": [
    {
     "name": "stdout",
     "output_type": "stream",
     "text": [
      "A number of heads of state were in the capital , La Paz , to witness Mr. Morales take the oath of office Sunday , including Chilean President Ricardo Lagos , Venezuela 's President Hugo Chavez and U.S. Assistant Secretary of State Thomas Shannon , the Bush administration 's top official for Latin America . A number of heads of state were in the capital , La Paz , to witness Mr. Morales take the oath of office Sunday , including Chilean President Ricardo Lagos , Venezuela 's President Hugo Chavez and U.S. Assistant Secretary of State Thomas Shannon , the Bush administration 's top official for Latin America .\n",
      "label: B-per, start: 69, end: 72, value: Mr.\n",
      "label: I-per, start: 73, end: 80, value: Morales\n",
      "label: B-tim, start: 105, end: 111, value: Sunday\n",
      "label: B-org, start: 124, end: 131, value: Chilean\n",
      "label: B-per, start: 132, end: 141, value: President\n",
      "label: I-per, start: 142, end: 149, value: Ricardo\n",
      "label: I-per, start: 150, end: 155, value: Lagos\n",
      "label: B-geo, start: 158, end: 167, value: Venezuela\n",
      "label: B-per, start: 171, end: 180, value: President\n",
      "label: I-per, start: 181, end: 185, value: Hugo\n",
      "label: I-per, start: 186, end: 192, value: Chavez\n",
      "label: B-org, start: 197, end: 201, value: U.S.\n",
      "label: I-org, start: 202, end: 211, value: Assistant\n",
      "label: B-org, start: 225, end: 230, value: State\n",
      "label: I-org, start: 231, end: 237, value: Thomas\n",
      "label: B-geo, start: 252, end: 256, value: Bush\n",
      "label: B-geo, start: 292, end: 297, value: Latin\n",
      "label: B-per, start: 377, end: 380, value: Mr.\n",
      "label: I-per, start: 381, end: 388, value: Morales\n",
      "label: B-tim, start: 413, end: 419, value: Sunday\n",
      "label: B-org, start: 432, end: 439, value: Chilean\n",
      "label: B-per, start: 440, end: 449, value: President\n",
      "label: I-per, start: 450, end: 457, value: Ricardo\n",
      "label: I-per, start: 458, end: 463, value: Lagos\n",
      "label: B-geo, start: 466, end: 475, value: Venezuela\n",
      "label: B-per, start: 479, end: 488, value: President\n",
      "label: I-per, start: 489, end: 493, value: Hugo\n",
      "label: I-per, start: 494, end: 500, value: Chavez\n",
      "label: B-org, start: 505, end: 509, value: U.S.\n",
      "label: I-org, start: 510, end: 519, value: Assistant\n",
      "label: B-org, start: 533, end: 538, value: State\n",
      "label: I-org, start: 539, end: 545, value: Thomas\n",
      "label: B-geo, start: 560, end: 564, value: Bush\n",
      "label: B-geo, start: 600, end: 605, value: Latin\n"
     ]
    }
   ],
   "source": [
    "# load the ner model\n",
    "nlp_ner = spacy.load(r\"E:\\Work\\Data_Science\\Projects\\Custom_NER\\models\\model_ner_ef\\model-best\")\n",
    "predict_ner(nlp_ner, text)"
   ]
  },
  {
   "cell_type": "code",
   "execution_count": 66,
   "id": "43dfbe5e",
   "metadata": {},
   "outputs": [
    {
     "name": "stdout",
     "output_type": "stream",
     "text": [
      "A number of heads of state were in the capital , La Paz , to witness Mr. Morales take the oath of office Sunday , including Chilean President Ricardo Lagos , Venezuela 's President Hugo Chavez and U.S. Assistant Secretary of State Thomas Shannon , the Bush administration 's top official for Latin America . A number of heads of state were in the capital , La Paz , to witness Mr. Morales take the oath of office Sunday , including Chilean President Ricardo Lagos , Venezuela 's President Hugo Chavez and U.S. Assistant Secretary of State Thomas Shannon , the Bush administration 's top official for Latin America .\n",
      "label: B-geo, start: 49, end: 51, value: La\n",
      "label: B-geo, start: 52, end: 55, value: Paz\n",
      "label: B-per, start: 69, end: 72, value: Mr.\n",
      "label: I-per, start: 73, end: 80, value: Morales\n",
      "label: B-tim, start: 105, end: 111, value: Sunday\n",
      "label: B-gpe, start: 124, end: 131, value: Chilean\n",
      "label: B-per, start: 132, end: 141, value: President\n",
      "label: I-per, start: 142, end: 149, value: Ricardo\n",
      "label: I-per, start: 150, end: 155, value: Lagos\n",
      "label: B-geo, start: 158, end: 167, value: Venezuela\n",
      "label: B-per, start: 171, end: 180, value: President\n",
      "label: I-per, start: 181, end: 185, value: Hugo\n",
      "label: I-per, start: 186, end: 192, value: Chavez\n",
      "label: B-geo, start: 197, end: 201, value: U.S.\n",
      "label: B-per, start: 231, end: 237, value: Thomas\n",
      "label: I-per, start: 238, end: 245, value: Shannon\n",
      "label: B-org, start: 252, end: 256, value: Bush\n",
      "label: B-geo, start: 292, end: 297, value: Latin\n",
      "label: I-geo, start: 298, end: 305, value: America\n",
      "label: B-geo, start: 357, end: 359, value: La\n",
      "label: B-geo, start: 360, end: 363, value: Paz\n",
      "label: B-per, start: 377, end: 380, value: Mr.\n",
      "label: I-per, start: 381, end: 388, value: Morales\n",
      "label: B-tim, start: 413, end: 419, value: Sunday\n",
      "label: B-gpe, start: 432, end: 439, value: Chilean\n",
      "label: B-per, start: 440, end: 449, value: President\n",
      "label: I-per, start: 450, end: 457, value: Ricardo\n",
      "label: I-per, start: 458, end: 463, value: Lagos\n",
      "label: B-geo, start: 466, end: 475, value: Venezuela\n",
      "label: B-per, start: 479, end: 488, value: President\n",
      "label: I-per, start: 489, end: 493, value: Hugo\n",
      "label: I-per, start: 494, end: 500, value: Chavez\n",
      "label: B-geo, start: 505, end: 509, value: U.S.\n",
      "label: B-per, start: 539, end: 545, value: Thomas\n",
      "label: I-per, start: 546, end: 553, value: Shannon\n",
      "label: B-org, start: 560, end: 564, value: Bush\n",
      "label: B-geo, start: 600, end: 605, value: Latin\n",
      "label: I-geo, start: 606, end: 613, value: America\n"
     ]
    }
   ],
   "source": [
    "# load the ner model with transformer backend\n",
    "nlp_ner_trf = spacy.load(r\"E:\\Work\\Data_Science\\Projects\\Custom_NER\\models\\model_ner_trf_acc\\model-best\")\n",
    "predict_ner(nlp_ner_trf, text)"
   ]
  },
  {
   "cell_type": "markdown",
   "id": "3b740cdf",
   "metadata": {},
   "source": [
    "### inference on spancat models"
   ]
  },
  {
   "cell_type": "code",
   "execution_count": 64,
   "id": "76568daa",
   "metadata": {},
   "outputs": [],
   "source": [
    "def predict_spancat(model, text, span_key='sc'):\n",
    "    print(text)\n",
    "    doc = model(text)\n",
    "    spans = doc.spans[span_key]\n",
    "    scores = spans.attrs[\"scores\"]\n",
    "    # print(spans)\n",
    "    for i, span in enumerate(spans):\n",
    "        label = span.label_\n",
    "        start = span.start\n",
    "        end = span.end\n",
    "        val = span\n",
    "        score = scores[i]\n",
    "        print(f'label: {label}, start: {start}, end: {end}, value: {val}, confidence_score: {score}')"
   ]
  },
  {
   "cell_type": "code",
   "execution_count": 65,
   "id": "1bc536eb",
   "metadata": {},
   "outputs": [
    {
     "name": "stdout",
     "output_type": "stream",
     "text": [
      "A number of heads of state were in the capital , La Paz , to witness Mr. Morales take the oath of office Sunday , including Chilean President Ricardo Lagos , Venezuela 's President Hugo Chavez and U.S. Assistant Secretary of State Thomas Shannon , the Bush administration 's top official for Latin America . A number of heads of state were in the capital , La Paz , to witness Mr. Morales take the oath of office Sunday , including Chilean President Ricardo Lagos , Venezuela 's President Hugo Chavez and U.S. Assistant Secretary of State Thomas Shannon , the Bush administration 's top official for Latin America .\n",
      "label: I-org, start: 11, end: 12, value: La, confidence_score: 0.5051478743553162\n",
      "label: I-tim, start: 66, end: 67, value: La, confidence_score: 0.54817795753479\n",
      "label: I-art, start: 91, end: 92, value: and, confidence_score: 0.6004155278205872\n",
      "label: I-art, start: 99, end: 100, value: ,, confidence_score: 0.5122438669204712\n",
      "label: I-tim, start: 107, end: 108, value: Latin, confidence_score: 0.5041026473045349\n",
      "label: I-org, start: 40, end: 42, value: of State, confidence_score: 0.5684983134269714\n",
      "label: I-art, start: 44, end: 46, value: , the, confidence_score: 0.5221918225288391\n",
      "label: I-tim, start: 66, end: 68, value: La Paz, confidence_score: 0.5234220027923584\n",
      "label: B-geo, start: 97, end: 99, value: Thomas Shannon, confidence_score: 0.515868067741394\n",
      "label: I-art, start: 99, end: 101, value: , the, confidence_score: 0.506635844707489\n",
      "label: I-tim, start: 107, end: 109, value: Latin America, confidence_score: 0.5688071250915527\n",
      "label: I-org, start: 40, end: 43, value: of State Thomas, confidence_score: 0.5235863327980042\n",
      "label: I-tim, start: 84, end: 87, value: Lagos , Venezuela, confidence_score: 0.5201476812362671\n",
      "label: I-art, start: 91, end: 94, value: and U.S. Assistant, confidence_score: 0.5017238259315491\n"
     ]
    }
   ],
   "source": [
    "# load best model from spancat training with tranformers\n",
    "nlp_spancat_trf = spacy.load(r\"E:\\Work\\Data_Science\\Projects\\Custom_NER\\models\\models_spancat_trf_acc\\model-best\")\n",
    "predict_spancat(nlp_spancat_trf, text, span_key='sc')"
   ]
  },
  {
   "cell_type": "code",
   "execution_count": null,
   "id": "0504f202",
   "metadata": {},
   "outputs": [],
   "source": []
  },
  {
   "cell_type": "code",
   "execution_count": null,
   "id": "7e7d882e",
   "metadata": {},
   "outputs": [],
   "source": []
  }
 ],
 "metadata": {
  "kernelspec": {
   "display_name": "Python 3 (ipykernel)",
   "language": "python",
   "name": "python3"
  },
  "language_info": {
   "codemirror_mode": {
    "name": "ipython",
    "version": 3
   },
   "file_extension": ".py",
   "mimetype": "text/x-python",
   "name": "python",
   "nbconvert_exporter": "python",
   "pygments_lexer": "ipython3",
   "version": "3.10.4"
  }
 },
 "nbformat": 4,
 "nbformat_minor": 5
}
