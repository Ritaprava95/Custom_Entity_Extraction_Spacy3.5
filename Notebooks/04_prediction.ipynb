{
 "cells": [
  {
   "cell_type": "markdown",
   "id": "0676742a",
   "metadata": {},
   "source": [
    "## Now let's run inference on our models"
   ]
  },
  {
   "cell_type": "code",
   "execution_count": 1,
   "id": "7b5a3da7",
   "metadata": {},
   "outputs": [],
   "source": [
    "import spacy"
   ]
  },
  {
   "cell_type": "code",
   "execution_count": 2,
   "id": "257eef64",
   "metadata": {},
   "outputs": [],
   "source": [
    "text = r\"A number of heads of state were in the capital , La Paz , to witness Mr. Morales take the oath of office Sunday , including Chilean President Ricardo Lagos , Venezuela 's President Hugo Chavez and U.S. Assistant Secretary of State Thomas Shannon , the Bush administration 's top official for Latin America . A number of heads of state were in the capital , La Paz , to witness Mr. Morales take the oath of office Sunday , including Chilean President Ricardo Lagos , Venezuela 's President Hugo Chavez and U.S. Assistant Secretary of State Thomas Shannon , the Bush administration 's top official for Latin America .\" "
   ]
  },
  {
   "cell_type": "markdown",
   "id": "7bc43391",
   "metadata": {},
   "source": [
    "### Inference on ner model"
   ]
  },
  {
   "cell_type": "code",
   "execution_count": 58,
   "id": "1d0e90d1",
   "metadata": {},
   "outputs": [],
   "source": [
    "def predict_ner(model, text):\n",
    "    print(text)\n",
    "    doc = model(text)\n",
    "    for ele in doc.to_json()['ents']:\n",
    "        label = ele['label']\n",
    "        start = ele['start']\n",
    "        end = ele['end']\n",
    "        val = text[start:end]\n",
    "        print(f'label: {label}, start: {start}, end: {end}, value: {val}')\n"
   ]
  },
  {
   "cell_type": "code",
   "execution_count": 61,
   "id": "b8a686a4",
   "metadata": {},
   "outputs": [
    {
     "name": "stdout",
     "output_type": "stream",
     "text": [
      "A number of heads of state were in the capital , La Paz , to witness Mr. Morales take the oath of office Sunday , including Chilean President Ricardo Lagos , Venezuela 's President Hugo Chavez and U.S. Assistant Secretary of State Thomas Shannon , the Bush administration 's top official for Latin America . A number of heads of state were in the capital , La Paz , to witness Mr. Morales take the oath of office Sunday , including Chilean President Ricardo Lagos , Venezuela 's President Hugo Chavez and U.S. Assistant Secretary of State Thomas Shannon , the Bush administration 's top official for Latin America .\n",
      "label: B-per, start: 69, end: 72, value: Mr.\n",
      "label: I-per, start: 73, end: 80, value: Morales\n",
      "label: B-tim, start: 105, end: 111, value: Sunday\n",
      "label: B-org, start: 124, end: 131, value: Chilean\n",
      "label: B-per, start: 132, end: 141, value: President\n",
      "label: I-per, start: 142, end: 149, value: Ricardo\n",
      "label: I-per, start: 150, end: 155, value: Lagos\n",
      "label: B-geo, start: 158, end: 167, value: Venezuela\n",
      "label: B-per, start: 171, end: 180, value: President\n",
      "label: I-per, start: 181, end: 185, value: Hugo\n",
      "label: I-per, start: 186, end: 192, value: Chavez\n",
      "label: B-org, start: 197, end: 201, value: U.S.\n",
      "label: I-org, start: 202, end: 211, value: Assistant\n",
      "label: B-org, start: 225, end: 230, value: State\n",
      "label: I-org, start: 231, end: 237, value: Thomas\n",
      "label: B-geo, start: 252, end: 256, value: Bush\n",
      "label: B-geo, start: 292, end: 297, value: Latin\n",
      "label: B-per, start: 377, end: 380, value: Mr.\n",
      "label: I-per, start: 381, end: 388, value: Morales\n",
      "label: B-tim, start: 413, end: 419, value: Sunday\n",
      "label: B-org, start: 432, end: 439, value: Chilean\n",
      "label: B-per, start: 440, end: 449, value: President\n",
      "label: I-per, start: 450, end: 457, value: Ricardo\n",
      "label: I-per, start: 458, end: 463, value: Lagos\n",
      "label: B-geo, start: 466, end: 475, value: Venezuela\n",
      "label: B-per, start: 479, end: 488, value: President\n",
      "label: I-per, start: 489, end: 493, value: Hugo\n",
      "label: I-per, start: 494, end: 500, value: Chavez\n",
      "label: B-org, start: 505, end: 509, value: U.S.\n",
      "label: I-org, start: 510, end: 519, value: Assistant\n",
      "label: B-org, start: 533, end: 538, value: State\n",
      "label: I-org, start: 539, end: 545, value: Thomas\n",
      "label: B-geo, start: 560, end: 564, value: Bush\n",
      "label: B-geo, start: 600, end: 605, value: Latin\n"
     ]
    }
   ],
   "source": [
    "# load the ner model\n",
    "nlp_ner = spacy.load(r\"E:\\Work\\Data_Science\\Projects\\Custom_NER\\models\\model_ner_ef\\model-best\")\n",
    "predict_ner(nlp_ner, text)"
   ]
  },
  {
   "cell_type": "code",
   "execution_count": 66,
   "id": "43dfbe5e",
   "metadata": {},
   "outputs": [
    {
     "name": "stdout",
     "output_type": "stream",
     "text": [
      "A number of heads of state were in the capital , La Paz , to witness Mr. Morales take the oath of office Sunday , including Chilean President Ricardo Lagos , Venezuela 's President Hugo Chavez and U.S. Assistant Secretary of State Thomas Shannon , the Bush administration 's top official for Latin America . A number of heads of state were in the capital , La Paz , to witness Mr. Morales take the oath of office Sunday , including Chilean President Ricardo Lagos , Venezuela 's President Hugo Chavez and U.S. Assistant Secretary of State Thomas Shannon , the Bush administration 's top official for Latin America .\n",
      "label: B-geo, start: 49, end: 51, value: La\n",
      "label: B-geo, start: 52, end: 55, value: Paz\n",
      "label: B-per, start: 69, end: 72, value: Mr.\n",
      "label: I-per, start: 73, end: 80, value: Morales\n",
      "label: B-tim, start: 105, end: 111, value: Sunday\n",
      "label: B-gpe, start: 124, end: 131, value: Chilean\n",
      "label: B-per, start: 132, end: 141, value: President\n",
      "label: I-per, start: 142, end: 149, value: Ricardo\n",
      "label: I-per, start: 150, end: 155, value: Lagos\n",
      "label: B-geo, start: 158, end: 167, value: Venezuela\n",
      "label: B-per, start: 171, end: 180, value: President\n",
      "label: I-per, start: 181, end: 185, value: Hugo\n",
      "label: I-per, start: 186, end: 192, value: Chavez\n",
      "label: B-geo, start: 197, end: 201, value: U.S.\n",
      "label: B-per, start: 231, end: 237, value: Thomas\n",
      "label: I-per, start: 238, end: 245, value: Shannon\n",
      "label: B-org, start: 252, end: 256, value: Bush\n",
      "label: B-geo, start: 292, end: 297, value: Latin\n",
      "label: I-geo, start: 298, end: 305, value: America\n",
      "label: B-geo, start: 357, end: 359, value: La\n",
      "label: B-geo, start: 360, end: 363, value: Paz\n",
      "label: B-per, start: 377, end: 380, value: Mr.\n",
      "label: I-per, start: 381, end: 388, value: Morales\n",
      "label: B-tim, start: 413, end: 419, value: Sunday\n",
      "label: B-gpe, start: 432, end: 439, value: Chilean\n",
      "label: B-per, start: 440, end: 449, value: President\n",
      "label: I-per, start: 450, end: 457, value: Ricardo\n",
      "label: I-per, start: 458, end: 463, value: Lagos\n",
      "label: B-geo, start: 466, end: 475, value: Venezuela\n",
      "label: B-per, start: 479, end: 488, value: President\n",
      "label: I-per, start: 489, end: 493, value: Hugo\n",
      "label: I-per, start: 494, end: 500, value: Chavez\n",
      "label: B-geo, start: 505, end: 509, value: U.S.\n",
      "label: B-per, start: 539, end: 545, value: Thomas\n",
      "label: I-per, start: 546, end: 553, value: Shannon\n",
      "label: B-org, start: 560, end: 564, value: Bush\n",
      "label: B-geo, start: 600, end: 605, value: Latin\n",
      "label: I-geo, start: 606, end: 613, value: America\n"
     ]
    }
   ],
   "source": [
    "# load the ner model with transformer backend\n",
    "nlp_ner_trf = spacy.load(r\"E:\\Work\\Data_Science\\Projects\\Custom_NER\\models\\model_ner_trf_acc\\model-best\")\n",
    "predict_ner(nlp_ner_trf, text)"
   ]
  },
  {
   "cell_type": "markdown",
   "id": "3b740cdf",
   "metadata": {},
   "source": [
    "### inference on spancat models"
   ]
  },
  {
   "cell_type": "code",
   "execution_count": 7,
   "id": "76568daa",
   "metadata": {},
   "outputs": [],
   "source": [
    "def predict_spancat(model, text, span_key='sc'):\n",
    "    print(text)\n",
    "    doc = model(text)\n",
    "    spans = doc.spans[span_key]\n",
    "    scores = spans.attrs[\"scores\"]\n",
    "    # print(spans)\n",
    "    for i, span in enumerate(spans):\n",
    "        label = span.label_\n",
    "        start = span.start_char\n",
    "        end = span.end_char\n",
    "        val = span\n",
    "        score = scores[i]\n",
    "        print(f'label: {label}, start: {start}, end: {end}, value: {val}, confidence_score: {score}')\n",
    "        if i == 50:\n",
    "            break"
   ]
  },
  {
   "cell_type": "code",
   "execution_count": 8,
   "id": "1bc536eb",
   "metadata": {},
   "outputs": [
    {
     "name": "stdout",
     "output_type": "stream",
     "text": [
      "A number of heads of state were in the capital , La Paz , to witness Mr. Morales take the oath of office Sunday , including Chilean President Ricardo Lagos , Venezuela 's President Hugo Chavez and U.S. Assistant Secretary of State Thomas Shannon , the Bush administration 's top official for Latin America . A number of heads of state were in the capital , La Paz , to witness Mr. Morales take the oath of office Sunday , including Chilean President Ricardo Lagos , Venezuela 's President Hugo Chavez and U.S. Assistant Secretary of State Thomas Shannon , the Bush administration 's top official for Latin America .\n",
      "label: B-org, start: 0, end: 1, value: A, confidence_score: 0.718563973903656\n",
      "label: I-org, start: 0, end: 1, value: A, confidence_score: 0.7959696650505066\n",
      "label: B-geo, start: 0, end: 1, value: A, confidence_score: 0.6497291922569275\n",
      "label: B-tim, start: 0, end: 1, value: A, confidence_score: 0.5006956458091736\n",
      "label: B-per, start: 0, end: 1, value: A, confidence_score: 0.6178675889968872\n",
      "label: I-geo, start: 0, end: 1, value: A, confidence_score: 0.6680596470832825\n",
      "label: I-eve, start: 0, end: 1, value: A, confidence_score: 0.726951539516449\n",
      "label: I-art, start: 0, end: 1, value: A, confidence_score: 0.8221629858016968\n",
      "label: B-nat, start: 0, end: 1, value: A, confidence_score: 0.7287923097610474\n",
      "label: B-tim, start: 2, end: 8, value: number, confidence_score: 0.7966334223747253\n",
      "label: B-per, start: 2, end: 8, value: number, confidence_score: 0.7472637891769409\n",
      "label: I-geo, start: 2, end: 8, value: number, confidence_score: 0.8852304816246033\n",
      "label: I-tim, start: 2, end: 8, value: number, confidence_score: 0.8110379576683044\n",
      "label: I-eve, start: 2, end: 8, value: number, confidence_score: 0.9045990109443665\n",
      "label: I-art, start: 2, end: 8, value: number, confidence_score: 0.6616663932800293\n",
      "label: I-gpe, start: 2, end: 8, value: number, confidence_score: 0.8520458936691284\n",
      "label: B-nat, start: 2, end: 8, value: number, confidence_score: 0.5800475478172302\n",
      "label: I-nat, start: 2, end: 8, value: number, confidence_score: 0.6532875299453735\n",
      "label: B-org, start: 9, end: 11, value: of, confidence_score: 0.8949658274650574\n",
      "label: I-org, start: 9, end: 11, value: of, confidence_score: 0.6494178175926208\n",
      "label: B-per, start: 9, end: 11, value: of, confidence_score: 0.6157745718955994\n",
      "label: I-geo, start: 9, end: 11, value: of, confidence_score: 0.781988799571991\n",
      "label: B-eve, start: 9, end: 11, value: of, confidence_score: 0.5108201503753662\n",
      "label: I-eve, start: 9, end: 11, value: of, confidence_score: 0.8916727304458618\n",
      "label: I-art, start: 9, end: 11, value: of, confidence_score: 0.7769971489906311\n",
      "label: B-nat, start: 9, end: 11, value: of, confidence_score: 0.7945759892463684\n",
      "label: I-nat, start: 9, end: 11, value: of, confidence_score: 0.6480110883712769\n",
      "label: B-org, start: 12, end: 17, value: heads, confidence_score: 0.5790031552314758\n",
      "label: I-org, start: 12, end: 17, value: heads, confidence_score: 0.7451693415641785\n",
      "label: B-geo, start: 12, end: 17, value: heads, confidence_score: 0.7001098990440369\n",
      "label: B-per, start: 12, end: 17, value: heads, confidence_score: 0.7231888175010681\n",
      "label: I-geo, start: 12, end: 17, value: heads, confidence_score: 0.7683514356613159\n",
      "label: B-eve, start: 12, end: 17, value: heads, confidence_score: 0.5749723315238953\n",
      "label: I-eve, start: 12, end: 17, value: heads, confidence_score: 0.8351597189903259\n",
      "label: I-art, start: 12, end: 17, value: heads, confidence_score: 0.7633627653121948\n",
      "label: I-gpe, start: 12, end: 17, value: heads, confidence_score: 0.9266300797462463\n",
      "label: B-nat, start: 12, end: 17, value: heads, confidence_score: 0.6221665143966675\n",
      "label: B-org, start: 18, end: 20, value: of, confidence_score: 0.897389829158783\n",
      "label: B-per, start: 18, end: 20, value: of, confidence_score: 0.6898150444030762\n",
      "label: I-geo, start: 18, end: 20, value: of, confidence_score: 0.6503087282180786\n",
      "label: I-eve, start: 18, end: 20, value: of, confidence_score: 0.9227067828178406\n",
      "label: I-art, start: 18, end: 20, value: of, confidence_score: 0.6910010576248169\n",
      "label: B-nat, start: 18, end: 20, value: of, confidence_score: 0.814544677734375\n",
      "label: I-nat, start: 18, end: 20, value: of, confidence_score: 0.6978281736373901\n",
      "label: B-geo, start: 21, end: 26, value: state, confidence_score: 0.5004886388778687\n",
      "label: B-per, start: 21, end: 26, value: state, confidence_score: 0.6207924485206604\n",
      "label: I-geo, start: 21, end: 26, value: state, confidence_score: 0.843357503414154\n",
      "label: I-tim, start: 21, end: 26, value: state, confidence_score: 0.6227470636367798\n",
      "label: I-eve, start: 21, end: 26, value: state, confidence_score: 0.9749420285224915\n",
      "label: I-art, start: 21, end: 26, value: state, confidence_score: 0.5916961431503296\n",
      "label: I-gpe, start: 21, end: 26, value: state, confidence_score: 0.6306034326553345\n"
     ]
    }
   ],
   "source": [
    "# load best model from spancat training with tranformers\n",
    "nlp_spancat_trf = spacy.load(r\"E:\\Work\\Data_Science\\Projects\\Custom_NER\\models\\models_spancat_trf_acc\\model-best\")\n",
    "predict_spancat(nlp_spancat_trf, text, span_key='sc')"
   ]
  },
  {
   "cell_type": "markdown",
   "id": "ebb5a762",
   "metadata": {},
   "source": [
    "#### as expected it is giving too many spans( I only printed first 50 predictions) and also with wrong categories, training with higher epoch would resolve this "
   ]
  },
  {
   "cell_type": "markdown",
   "id": "067c0990",
   "metadata": {},
   "source": [
    "####  Some Analysis"
   ]
  },
  {
   "cell_type": "code",
   "execution_count": 8,
   "id": "eb1dd041",
   "metadata": {},
   "outputs": [
    {
     "name": "stdout",
     "output_type": "stream",
     "text": [
      "['_', '__class__', '__delattr__', '__dir__', '__doc__', '__eq__', '__format__', '__ge__', '__getattribute__', '__getitem__', '__gt__', '__hash__', '__init__', '__init_subclass__', '__iter__', '__le__', '__len__', '__lt__', '__ne__', '__new__', '__pyx_vtable__', '__reduce__', '__reduce_ex__', '__repr__', '__setattr__', '__sizeof__', '__str__', '__subclasshook__', '_fix_dep_copy', '_vector', '_vector_norm', 'as_doc', 'char_span', 'conjuncts', 'doc', 'end', 'end_char', 'ent_id', 'ent_id_', 'ents', 'get_extension', 'get_lca_matrix', 'has_extension', 'has_vector', 'id', 'id_', 'kb_id', 'kb_id_', 'label', 'label_', 'lefts', 'lemma_', 'n_lefts', 'n_rights', 'noun_chunks', 'orth_', 'remove_extension', 'rights', 'root', 'sent', 'sentiment', 'sents', 'set_extension', 'similarity', 'start', 'start_char', 'subtree', 'tensor', 'text', 'text_with_ws', 'to_array', 'vector', 'vector_norm', 'vocab']\n"
     ]
    }
   ],
   "source": [
    "doc = nlp_spancat_trf(text)\n",
    "spans = doc.spans['sc']\n",
    "span = spans[0]\n",
    "print(dir(span)) # to get the attributes of span object"
   ]
  },
  {
   "cell_type": "markdown",
   "id": "f61676b2",
   "metadata": {},
   "source": [
    "## Inference on textcat"
   ]
  },
  {
   "cell_type": "code",
   "execution_count": 5,
   "id": "084bc195",
   "metadata": {},
   "outputs": [],
   "source": [
    "def predict_textcat(text, model):\n",
    "    doc = model(text)\n",
    "    print(f\"Text: {text}\\n\\n Predictions:{doc.cats}\")\n"
   ]
  },
  {
   "cell_type": "code",
   "execution_count": 6,
   "id": "5a5f029f",
   "metadata": {},
   "outputs": [
    {
     "name": "stdout",
     "output_type": "stream",
     "text": [
      "Text: A number of heads of state were in the capital , La Paz , to witness Mr. Morales take the oath of office Sunday , including Chilean President Ricardo Lagos , Venezuela 's President Hugo Chavez and U.S. Assistant Secretary of State Thomas Shannon , the Bush administration 's top official for Latin America . A number of heads of state were in the capital , La Paz , to witness Mr. Morales take the oath of office Sunday , including Chilean President Ricardo Lagos , Venezuela 's President Hugo Chavez and U.S. Assistant Secretary of State Thomas Shannon , the Bush administration 's top official for Latin America .\n",
      "\n",
      " Predictions:{'O': 0.05912334844470024, 'B-geo': 0.2160981297492981, 'B-gpe': 0.09529442340135574, 'B-per': 0.25268614292144775, 'B-org': 0.6761397123336792, 'I-org': 0.5000951290130615, 'B-tim': 0.3183569610118866, 'B-art': 0.844634473323822, 'I-art': 0.3411206603050232, 'I-per': 0.12643103301525116, 'I-geo': 0.8780205249786377, 'I-gpe': 0.6552384495735168, 'I-tim': 0.27394381165504456, 'B-nat': 0.3874422311782837, 'B-eve': 0.12451367825269699, 'I-eve': 0.029006056487560272, 'I-nat': 0.21991552412509918}\n"
     ]
    }
   ],
   "source": [
    "model = spacy.load(r\"E:\\Work\\Data_Science\\Projects\\Custom_NER\\models\\model_textcat_trf_acc\\model-best\")\n",
    "predict_textcat(text, model)"
   ]
  },
  {
   "cell_type": "code",
   "execution_count": null,
   "id": "029036f8",
   "metadata": {},
   "outputs": [],
   "source": []
  }
 ],
 "metadata": {
  "kernelspec": {
   "display_name": "Python 3 (ipykernel)",
   "language": "python",
   "name": "python3"
  },
  "language_info": {
   "codemirror_mode": {
    "name": "ipython",
    "version": 3
   },
   "file_extension": ".py",
   "mimetype": "text/x-python",
   "name": "python",
   "nbconvert_exporter": "python",
   "pygments_lexer": "ipython3",
   "version": "3.10.4"
  }
 },
 "nbformat": 4,
 "nbformat_minor": 5
}
