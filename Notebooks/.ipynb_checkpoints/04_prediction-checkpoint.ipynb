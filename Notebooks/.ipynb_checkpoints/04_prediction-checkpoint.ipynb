{
 "cells": [
  {
   "cell_type": "markdown",
   "id": "0676742a",
   "metadata": {},
   "source": [
    "## Now let's run inference on our models"
   ]
  },
  {
   "cell_type": "code",
   "execution_count": 3,
   "id": "7b5a3da7",
   "metadata": {},
   "outputs": [],
   "source": [
    "import spacy"
   ]
  },
  {
   "cell_type": "markdown",
   "id": "7bc43391",
   "metadata": {},
   "source": [
    "### Inference on ner model"
   ]
  },
  {
   "cell_type": "code",
   "execution_count": 58,
   "id": "1d0e90d1",
   "metadata": {},
   "outputs": [],
   "source": [
    "def predict_ner(model, text):\n",
    "    print(text)\n",
    "    doc = model(text)\n",
    "    for ele in doc.to_json()['ents']:\n",
    "        label = ele['label']\n",
    "        start = ele['start']\n",
    "        end = ele['end']\n",
    "        val = text[start:end]\n",
    "        print(f'label: {label}, start: {start}, end: {end}, value: {val}')\n"
   ]
  },
  {
   "cell_type": "code",
   "execution_count": 59,
   "id": "257eef64",
   "metadata": {},
   "outputs": [],
   "source": [
    "text = r\"A number of heads of state were in the capital , La Paz , to witness Mr. Morales take the oath of office Sunday , including Chilean President Ricardo Lagos , Venezuela 's President Hugo Chavez and U.S. Assistant Secretary of State Thomas Shannon , the Bush administration 's top official for Latin America . A number of heads of state were in the capital , La Paz , to witness Mr. Morales take the oath of office Sunday , including Chilean President Ricardo Lagos , Venezuela 's President Hugo Chavez and U.S. Assistant Secretary of State Thomas Shannon , the Bush administration 's top official for Latin America .\" "
   ]
  },
  {
   "cell_type": "code",
   "execution_count": 61,
   "id": "b8a686a4",
   "metadata": {},
   "outputs": [
    {
     "name": "stdout",
     "output_type": "stream",
     "text": [
      "A number of heads of state were in the capital , La Paz , to witness Mr. Morales take the oath of office Sunday , including Chilean President Ricardo Lagos , Venezuela 's President Hugo Chavez and U.S. Assistant Secretary of State Thomas Shannon , the Bush administration 's top official for Latin America . A number of heads of state were in the capital , La Paz , to witness Mr. Morales take the oath of office Sunday , including Chilean President Ricardo Lagos , Venezuela 's President Hugo Chavez and U.S. Assistant Secretary of State Thomas Shannon , the Bush administration 's top official for Latin America .\n",
      "label: B-per, start: 69, end: 72, value: Mr.\n",
      "label: I-per, start: 73, end: 80, value: Morales\n",
      "label: B-tim, start: 105, end: 111, value: Sunday\n",
      "label: B-org, start: 124, end: 131, value: Chilean\n",
      "label: B-per, start: 132, end: 141, value: President\n",
      "label: I-per, start: 142, end: 149, value: Ricardo\n",
      "label: I-per, start: 150, end: 155, value: Lagos\n",
      "label: B-geo, start: 158, end: 167, value: Venezuela\n",
      "label: B-per, start: 171, end: 180, value: President\n",
      "label: I-per, start: 181, end: 185, value: Hugo\n",
      "label: I-per, start: 186, end: 192, value: Chavez\n",
      "label: B-org, start: 197, end: 201, value: U.S.\n",
      "label: I-org, start: 202, end: 211, value: Assistant\n",
      "label: B-org, start: 225, end: 230, value: State\n",
      "label: I-org, start: 231, end: 237, value: Thomas\n",
      "label: B-geo, start: 252, end: 256, value: Bush\n",
      "label: B-geo, start: 292, end: 297, value: Latin\n",
      "label: B-per, start: 377, end: 380, value: Mr.\n",
      "label: I-per, start: 381, end: 388, value: Morales\n",
      "label: B-tim, start: 413, end: 419, value: Sunday\n",
      "label: B-org, start: 432, end: 439, value: Chilean\n",
      "label: B-per, start: 440, end: 449, value: President\n",
      "label: I-per, start: 450, end: 457, value: Ricardo\n",
      "label: I-per, start: 458, end: 463, value: Lagos\n",
      "label: B-geo, start: 466, end: 475, value: Venezuela\n",
      "label: B-per, start: 479, end: 488, value: President\n",
      "label: I-per, start: 489, end: 493, value: Hugo\n",
      "label: I-per, start: 494, end: 500, value: Chavez\n",
      "label: B-org, start: 505, end: 509, value: U.S.\n",
      "label: I-org, start: 510, end: 519, value: Assistant\n",
      "label: B-org, start: 533, end: 538, value: State\n",
      "label: I-org, start: 539, end: 545, value: Thomas\n",
      "label: B-geo, start: 560, end: 564, value: Bush\n",
      "label: B-geo, start: 600, end: 605, value: Latin\n"
     ]
    }
   ],
   "source": [
    "# load the ner model\n",
    "nlp_ner = spacy.load(r\"E:\\Work\\Data_Science\\Projects\\Custom_NER\\models\\model_ner_ef\\model-best\")\n",
    "predict_ner(nlp_ner, text)"
   ]
  },
  {
   "cell_type": "markdown",
   "id": "3b740cdf",
   "metadata": {},
   "source": [
    "### inference on spancat models"
   ]
  },
  {
   "cell_type": "code",
   "execution_count": 37,
   "id": "76568daa",
   "metadata": {},
   "outputs": [],
   "source": [
    "def predict_spancat(model, text, span_key='sc'):\n",
    "    print(text)\n",
    "    doc = model(text)\n",
    "    #print predicted spans and entity level scores\n",
    "    # print(doc.to_json())\n",
    "    spans = doc.spans[span_key]\n",
    "    scores = spans.attrs[\"scores\"]\n",
    "    # print(spans)\n",
    "    for i, span in enumerate(spans):\n",
    "        label = span.label_\n",
    "        start = \n",
    "        print(span, span.label_, span.start, span.end, scores[i])\n",
    "#     for span, confidence in zip(spans, spans.attrs[\"scores\"]):\n",
    "#         print(span.label_, confidence)"
   ]
  },
  {
   "cell_type": "code",
   "execution_count": 38,
   "id": "1bc536eb",
   "metadata": {},
   "outputs": [
    {
     "name": "stdout",
     "output_type": "stream",
     "text": [
      "La I-org 11 12 0.5051479\n",
      "La I-tim 66 67 0.54817796\n",
      "and I-art 91 92 0.6004155\n",
      ", I-art 99 100 0.51224387\n",
      "Latin I-tim 107 108 0.50410265\n",
      "of State I-org 40 42 0.5684983\n",
      ", the I-art 44 46 0.5221918\n",
      "La Paz I-tim 66 68 0.523422\n",
      "Thomas Shannon B-geo 97 99 0.51586807\n",
      ", the I-art 99 101 0.50663584\n",
      "Latin America I-tim 107 109 0.5688071\n",
      "of State Thomas I-org 40 43 0.52358633\n",
      "Lagos , Venezuela I-tim 84 87 0.5201477\n",
      "and U.S. Assistant I-art 91 94 0.5017238\n"
     ]
    }
   ],
   "source": [
    "# load best model from spancat training with tranformers\n",
    "nlp_spancat_trf = spacy.load(r\"E:\\Work\\Data_Science\\Projects\\Custom_NER\\models\\models_spancat_trf_acc\\model-best\")\n",
    "predict_spancat(nlp_spancat_trf, text, span_key='sc')"
   ]
  },
  {
   "cell_type": "code",
   "execution_count": null,
   "id": "0504f202",
   "metadata": {},
   "outputs": [],
   "source": []
  },
  {
   "cell_type": "code",
   "execution_count": null,
   "id": "7e7d882e",
   "metadata": {},
   "outputs": [],
   "source": []
  }
 ],
 "metadata": {
  "kernelspec": {
   "display_name": "Python 3 (ipykernel)",
   "language": "python",
   "name": "python3"
  },
  "language_info": {
   "codemirror_mode": {
    "name": "ipython",
    "version": 3
   },
   "file_extension": ".py",
   "mimetype": "text/x-python",
   "name": "python",
   "nbconvert_exporter": "python",
   "pygments_lexer": "ipython3",
   "version": "3.10.4"
  }
 },
 "nbformat": 4,
 "nbformat_minor": 5
}
