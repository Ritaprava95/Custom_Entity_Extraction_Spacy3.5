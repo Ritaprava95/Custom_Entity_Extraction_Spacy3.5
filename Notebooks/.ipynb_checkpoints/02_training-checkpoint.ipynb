{
 "cells": [
  {
   "cell_type": "code",
   "execution_count": 1,
   "id": "50ed226d",
   "metadata": {},
   "outputs": [
    {
     "name": "stdout",
     "output_type": "stream",
     "text": [
      "\u001b[38;5;3m[!] To generate a more effective transformer-based config (GPU-only),\n",
      "install the spacy-transformers package and re-run this command. The config\n",
      "generated now does not use transformers.\u001b[0m\n",
      "\u001b[38;5;4m[i] Generated config template specific for your use case\u001b[0m\n",
      "- Language: en\n",
      "- Pipeline: ner\n",
      "- Optimize for: efficiency\n",
      "- Hardware: CPU\n",
      "- Transformer: None\n",
      "\u001b[38;5;2m[+] Auto-filled config with all values\u001b[0m\n",
      "\u001b[38;5;2m[+] Saved config\u001b[0m\n",
      "E:\\Work\\Data_Science\\Projects\\Custom_NER_Spacy3.5\\Custom_Entity_Extraction_Spacy3.5\\configs\\config.cfg\n",
      "You can now add your data and train your pipeline:\n",
      "python -m spacy train config.cfg --paths.train ./train.spacy --paths.dev ./dev.spacy\n"
     ]
    }
   ],
   "source": [
    "# create traing config\n",
    "# initialize config file \n",
    "!python -m spacy init config --lang en --pipeline ner E:\\Work\\Data_Science\\Projects\\Custom_NER_Spacy3.5\\Custom_Entity_Extraction_Spacy3.5\\configs\\config.cfg --force"
   ]
  },
  {
   "cell_type": "code",
   "execution_count": 8,
   "id": "c67840c5",
   "metadata": {},
   "outputs": [
    {
     "name": "stdout",
     "output_type": "stream",
     "text": [
      "\u001b[38;5;2m[+] Auto-filled config with all values\u001b[0m\n",
      "\u001b[38;5;2m[+] Saved config\u001b[0m\n",
      "E:\\Work\\Data_Science\\Projects\\Custom_NER_Spacy3.5\\Custom_Entity_Extraction_Spacy3.5\\configs\\config_1.cfg\n",
      "You can now add your data and train your pipeline:\n",
      "python -m spacy train config_1.cfg --paths.train ./train.spacy --paths.dev ./dev.spacy\n"
     ]
    }
   ],
   "source": [
    "# auto fill the config_1 file\n",
    "!python -m spacy init fill-config E:\\Work\\Data_Science\\Projects\\Custom_NER_Spacy3.5\\Custom_Entity_Extraction_Spacy3.5\\configs\\config_1.cfg E:\\Work\\Data_Science\\Projects\\Custom_NER_Spacy3.5\\Custom_Entity_Extraction_Spacy3.5\\configs\\config_1.cfg"
   ]
  },
  {
   "cell_type": "markdown",
   "id": "f5954f63",
   "metadata": {},
   "source": [
    "<h3>make copies of the config and update them as per convenience</h3></br>\n",
    "I will make 2 copies, one for conventional training pipeline, another for tranformer training"
   ]
  },
  {
   "cell_type": "code",
   "execution_count": 1,
   "id": "a25f3ce1",
   "metadata": {},
   "outputs": [
    {
     "name": "stdout",
     "output_type": "stream",
     "text": [
      "\u001b[38;5;4m[i] Saving to output directory:\n",
      "E:\\Work\\Data_Science\\Projects\\Custom_NER_Spacy3.5\\Custom_Entity_Extraction_Spacy3.5\\models\\model_1\u001b[0m\n",
      "\u001b[38;5;4m[i] Using GPU: 0\u001b[0m\n",
      "\u001b[1m\n",
      "=========================== Initializing pipeline ===========================\u001b[0m\n",
      "\u001b[38;5;2m[+] Initialized pipeline\u001b[0m\n",
      "\u001b[1m\n",
      "============================= Training pipeline =============================\u001b[0m\n",
      "\u001b[38;5;4m[i] Pipeline: ['tok2vec', 'ner']\u001b[0m\n",
      "\u001b[38;5;4m[i] Initial learn rate: 0.001\u001b[0m\n",
      "E    #       LOSS TOK2VEC  LOSS NER  ENTS_F  ENTS_P  ENTS_R  SCORE \n",
      "---  ------  ------------  --------  ------  ------  ------  ------\n",
      "  0       0          0.00     54.50    5.33    3.32   13.57    0.05\n",
      "  0      10          0.80    459.42    0.00    0.00    0.00    0.00\n",
      "  0      20          1.15    225.16    8.47   43.02    4.70    0.08\n",
      "  0      30          0.80    228.89   18.43   36.15   12.37    0.18\n",
      "  0      40          0.44    146.34   32.32   33.46   31.25    0.32\n",
      "  0      50          0.71    135.98   36.45   38.83   34.34    0.36\n",
      "  0      60          0.97    158.64   27.07   26.24   27.95    0.27\n",
      "  0      70          0.67    125.99   29.70   34.56   26.04    0.30\n",
      "  0      80          0.62    115.40   37.59   42.86   33.47    0.38\n",
      "  0      90          0.71    123.80   43.96   46.43   41.75    0.44\n",
      "  0     100          0.76    126.55   43.26   43.72   42.80    0.43\n",
      "  0     110          0.46     70.45   37.94   40.92   35.37    0.38\n",
      "  0     120          1.68    147.17   44.37   44.89   43.87    0.44\n",
      "  0     130          0.93    123.86   44.88   46.13   43.70    0.45\n",
      "  0     140          0.95    131.85   49.55   53.00   46.52    0.50\n",
      "  0     150         20.68    154.83   47.18   46.90   47.46    0.47\n",
      "  0     160          1.37    102.82   47.37   51.88   43.58    0.47\n",
      "  0     170         87.33    219.86   48.13   47.54   48.73    0.48\n",
      "  0     180          2.00    128.40   54.20   56.71   51.91    0.54\n",
      "  0     190          1.43    112.19   51.80   56.28   47.98    0.52\n",
      "  0     200          0.86     79.88   58.82   59.84   57.83    0.59\n",
      "  0     210          1.90    109.78   58.35   59.53   57.22    0.58\n",
      "  0     220          1.71    113.01   57.55   60.00   55.30    0.58\n",
      "  0     230          1.34     91.75   54.35   58.16   51.00    0.54\n",
      "  0     240          2.25    140.37   60.55   62.57   58.65    0.61\n",
      "  0     250          1.85    146.38   60.38   64.60   56.67    0.60\n",
      "  0     260          2.54    162.19   58.70   58.84   58.56    0.59\n",
      "  0     270          1.96    140.82   59.25   59.08   59.42    0.59\n",
      "  0     280          1.98    144.53   57.17   56.84   57.49    0.57\n",
      "  0     290          1.11     85.93   61.97   66.71   57.86    0.62\n",
      "  0     300          1.81    126.76   64.26   64.86   63.66    0.64\n",
      "  0     310         21.35    155.41   55.80   52.55   59.48    0.56\n",
      "  0     320          1.67    100.45   55.58   63.14   49.64    0.56\n",
      "  0     330          2.01    135.17   65.42   65.57   65.26    0.65\n",
      "  0     340          1.94    103.08   62.37   60.99   63.81    0.62\n",
      "  0     350          1.52    116.49   64.86   67.23   62.65    0.65\n",
      "  0     360          2.49    140.57   64.23   64.84   63.64    0.64\n",
      "  0     370         54.74    174.85   64.74   65.20   64.28    0.65\n",
      "  0     380          1.67    111.86   64.98   69.37   61.11    0.65\n",
      "  0     390          2.03    122.36   63.53   62.11   65.00    0.64\n",
      "  0     400         53.10    179.65   65.87   70.42   61.88    0.66\n",
      "  0     410          2.94    150.64   67.38   67.16   67.61    0.67\n",
      "  0     420          2.02    132.15   66.01   67.67   64.43    0.66\n",
      "  0     430          1.77    102.06   65.40   66.88   63.98    0.65\n",
      "  0     440          3.84    196.77   69.73   70.25   69.22    0.70\n",
      "  0     450          2.11    142.82   67.74   69.59   65.99    0.68\n",
      "  0     460          2.41    133.10   65.05   67.49   62.78    0.65\n",
      "  0     470          1.73     94.49   68.55   69.07   68.05    0.69\n",
      "  0     480          1.77     88.74   70.27   72.76   67.95    0.70\n",
      "  0     490          3.34    162.75   70.60   71.50   69.72    0.71\n",
      "  0     500          2.01    118.63   70.98   73.26   68.84    0.71\n",
      "\u001b[38;5;2m[+] Saved pipeline to output directory\u001b[0m\n",
      "E:\\Work\\Data_Science\\Projects\\Custom_NER_Spacy3.5\\Custom_Entity_Extraction_Spacy3.5\\models\\model_1\\model-last\n"
     ]
    },
    {
     "name": "stderr",
     "output_type": "stream",
     "text": [
      "[2023-02-12 13:40:57,825] [INFO] Set up nlp object from config\n",
      "[2023-02-12 13:40:57,840] [INFO] Pipeline: ['tok2vec', 'ner']\n",
      "[2023-02-12 13:40:57,844] [INFO] Created vocabulary\n",
      "[2023-02-12 13:40:57,845] [INFO] Finished initializing nlp object\n",
      "[2023-02-12 13:41:06,476] [INFO] Initialized pipeline components: ['tok2vec', 'ner']\n"
     ]
    }
   ],
   "source": [
    "# train spacy\n",
    "!python -m spacy train E:\\Work\\Data_Science\\Projects\\Custom_NER_Spacy3.5\\Custom_Entity_Extraction_Spacy3.5\\configs\\config_1.cfg --output E:\\Work\\Data_Science\\Projects\\Custom_NER_Spacy3.5\\Custom_Entity_Extraction_Spacy3.5\\models\\model_1\\ --paths.train E:\\Work\\Data_Science\\Projects\\Custom_NER_Spacy3.5\\data\\Train\\train\\train.spacy --paths.dev E:\\Work\\Data_Science\\Projects\\Custom_NER_Spacy3.5\\data\\Train\\dev\\dev.spacy --training.eval_frequency 10 --training.max_steps 500 --gpu-id 0"
   ]
  },
  {
   "cell_type": "code",
   "execution_count": 6,
   "id": "2a74f824",
   "metadata": {},
   "outputs": [
    {
     "name": "stdout",
     "output_type": "stream",
     "text": [
      "\u001b[1m\n",
      "============================= Config validation =============================\u001b[0m\n",
      "\u001b[38;5;1m[x] Config validation error\u001b[0m\n",
      "disabled\tfield required\n",
      "tokenizer\tfield required\n",
      "before_creation\tfield required\n",
      "after_creation\tfield required\n",
      "after_pipeline_creation\tfield required\n",
      "{'lang': 'en', 'pipeline': ['tok2vec', 'ner'], 'batch_size': 1000}\n",
      "\n",
      "If your config contains missing values, you can run the 'init fill-config'\n",
      "command to fill in all the defaults, if possible:\n",
      "\n",
      "python -m spacy init fill-config E:\\Work\\Data_Science\\Projects\\Custom_NER_Spacy3.5\\Custom_Entity_Extraction_Spacy3.5\\configs\\config_1.cfg E:\\Work\\Data_Science\\Projects\\Custom_NER_Spacy3.5\\Custom_Entity_Extraction_Spacy3.5\\configs\\config_1.cfg \n",
      "\n"
     ]
    }
   ],
   "source": [
    "# !python -m spacy debug config E:\\Work\\Data_Science\\Projects\\Custom_NER_Spacy3.5\\Custom_Entity_Extraction_Spacy3.5\\configs\\config_1.cfg"
   ]
  },
  {
   "cell_type": "code",
   "execution_count": null,
   "id": "86759a85",
   "metadata": {},
   "outputs": [],
   "source": []
  }
 ],
 "metadata": {
  "kernelspec": {
   "display_name": "Python 3 (ipykernel)",
   "language": "python",
   "name": "python3"
  },
  "language_info": {
   "codemirror_mode": {
    "name": "ipython",
    "version": 3
   },
   "file_extension": ".py",
   "mimetype": "text/x-python",
   "name": "python",
   "nbconvert_exporter": "python",
   "pygments_lexer": "ipython3",
   "version": "3.10.4"
  }
 },
 "nbformat": 4,
 "nbformat_minor": 5
}
