{
 "cells": [
  {
   "cell_type": "code",
   "execution_count": 1,
   "id": "5b24e123",
   "metadata": {},
   "outputs": [],
   "source": [
    "import spacy\n",
    "import json\n",
    "from spacy.training.example import Example\n",
    "from spacy.scorer import Scorer"
   ]
  },
  {
   "cell_type": "markdown",
   "id": "5b2016a2",
   "metadata": {},
   "source": [
    "### Evaluation function "
   ]
  },
  {
   "cell_type": "code",
   "execution_count": 2,
   "id": "006a6079",
   "metadata": {},
   "outputs": [],
   "source": [
    "\n",
    "def Evaluate_ner(data, model):# works for NER\n",
    "    examples = []\n",
    "    for text, annots in data:\n",
    "        doc = model(text)\n",
    "        examples.append(Example.from_dict(doc, annots))\n",
    "    return model.evaluate(examples)\n",
    "\n",
    "\n",
    "\n",
    "def Evaluate_spancat(data, model):# works for spancat\n",
    "    \"\"\"\n",
    "    All it does is tha it taker the ner annotation {'entities':[[start, end, label], [start, end, label]]}\n",
    "    and covert then into spancat annotation {'spans':{'span_key':[[start, end, label], [start, end, label]]}}\n",
    "    this is needed because our test data follows ner annotation \n",
    "    then same as ner evaluation\n",
    "    \"\"\"\n",
    "    span_key = 'sc'\n",
    "    examples = []\n",
    "    for text, annots in data:\n",
    "        new_annots = {'spans':{}}\n",
    "        new_annots['spans'][span_key] = annots['entities']\n",
    "        doc = model(text)\n",
    "        examples.append(Example.from_dict(doc, new_annots))\n",
    "    return model.evaluate(examples)\n",
    "\n",
    "\n",
    "# def Evaluate2(data, model):\n",
    "#     scorer = Scorer()\n",
    "#     examples = []\n",
    "#     for text, annots in data:\n",
    "#         doc = model.make_doc(text)\n",
    "#         example = Example.from_dict(doc, annots)\n",
    "#         example.predicted = model(str(example.predicted))\n",
    "#         examples.append(example)\n",
    "#     return scorer.score(examples)"
   ]
  },
  {
   "cell_type": "code",
   "execution_count": 3,
   "id": "a7e63582",
   "metadata": {},
   "outputs": [],
   "source": [
    "# load test data\n",
    "with open(r'E:\\Work\\Data_Science\\Projects\\Custom_NER\\data\\Train\\test\\test_data_json.json', 'r') as f:\n",
    "    test_data_json = json.load(f)"
   ]
  },
  {
   "cell_type": "markdown",
   "id": "00e28a7b",
   "metadata": {},
   "source": [
    "### Evaluating ner model"
   ]
  },
  {
   "cell_type": "code",
   "execution_count": 4,
   "id": "0e5f6832",
   "metadata": {},
   "outputs": [],
   "source": [
    "# load best ner model from conventional training\n",
    "nlp_ner = spacy.load(r\"E:\\Work\\Data_Science\\Projects\\Custom_NER\\models\\model_ner_ef\\model-best\")"
   ]
  },
  {
   "cell_type": "code",
   "execution_count": 5,
   "id": "f8f0e498",
   "metadata": {},
   "outputs": [
    {
     "name": "stdout",
     "output_type": "stream",
     "text": [
      "{'token_acc': 1.0, 'token_p': 1.0, 'token_r': 1.0, 'token_f': 1.0, 'ents_p': 0.4558499952166842, 'ents_r': 0.4010605167915159, 'ents_f': 0.4267036804871496, 'ents_per_type': {'B-per': {'p': 0.9048780487804878, 'r': 0.30360065466448444, 'f': 0.45465686274509803}, 'I-per': {'p': 0.6119969627942293, 'r': 0.62, 'f': 0.6159724875811998}, 'B-tim': {'p': 0.6615776081424937, 'r': 0.18544935805991442, 'f': 0.28969359331476324}, 'B-org': {'p': 0.27367205542725176, 'r': 0.16481223922114047, 'f': 0.20572916666666669}, 'B-geo': {'p': 0.4578339991122947, 'r': 0.7512745812090313, 'f': 0.568946497517926}, 'I-org': {'p': 0.3824110671936759, 'r': 0.3073868149324861, 'f': 0.34081902245706736}, 'B-gpe': {'p': 0.33007209062821835, 'r': 0.5194489465153971, 'f': 0.40365239294710326}, 'I-geo': {'p': 0.0, 'r': 0.0, 'f': 0.0}, 'B-eve': {'p': 0.0, 'r': 0.0, 'f': 0.0}, 'I-tim': {'p': 0.0, 'r': 0.0, 'f': 0.0}, 'I-gpe': {'p': 0.0, 'r': 0.0, 'f': 0.0}, 'B-art': {'p': 0.0, 'r': 0.0, 'f': 0.0}, 'B-nat': {'p': 0.0, 'r': 0.0, 'f': 0.0}, 'I-art': {'p': 0.0, 'r': 0.0, 'f': 0.0}, 'I-eve': {'p': 0.0, 'r': 0.0, 'f': 0.0}, 'I-nat': {'p': 0.0, 'r': 0.0, 'f': 0.0}}, 'speed': 5287.985828715044}\n"
     ]
    }
   ],
   "source": [
    "print(Evaluate_ner(test_data_json, nlp_ner))"
   ]
  },
  {
   "cell_type": "code",
   "execution_count": 6,
   "id": "2a6445f2",
   "metadata": {},
   "outputs": [],
   "source": [
    "# load best ner model from tranformer training\n",
    "nlp_ner_trf = spacy.load(r\"E:\\Work\\Data_Science\\Projects\\Custom_NER\\models\\model_ner_trf_acc\\model-best\")"
   ]
  },
  {
   "cell_type": "code",
   "execution_count": 7,
   "id": "f44c8fe9",
   "metadata": {},
   "outputs": [
    {
     "name": "stdout",
     "output_type": "stream",
     "text": [
      "{'token_acc': 1.0, 'token_p': 1.0, 'token_r': 1.0, 'token_f': 1.0, 'ents_p': 0.7268560953253895, 'ents_r': 0.6674522346603822, 'ents_f': 0.6958887280066692, 'ents_per_type': {'B-geo': {'p': 0.6183513990420973, 'r': 0.8932993445010925, 'f': 0.7308207954714733}, 'B-per': {'p': 0.8341511285574092, 'r': 0.6955810147299509, 'f': 0.7585899152164213}, 'I-per': {'p': 0.7091128545564273, 'r': 0.9038461538461539, 'f': 0.7947243828204261}, 'B-tim': {'p': 0.8788617886178862, 'r': 0.7710413694721826, 'f': 0.8214285714285714}, 'B-gpe': {'p': 0.9122807017543859, 'r': 0.6320907617504052, 'f': 0.7467687888942077}, 'B-org': {'p': 0.6935300794551645, 'r': 0.42489568845618914, 'f': 0.5269512721000431}, 'I-geo': {'p': 0.7926829268292683, 'r': 0.20733652312599682, 'f': 0.3286978508217447}, 'I-org': {'p': 0.7471264367816092, 'r': 0.56791104050834, 'f': 0.6453068592057762}, 'B-eve': {'p': 0.0, 'r': 0.0, 'f': 0.0}, 'I-tim': {'p': 0.75, 'r': 0.2777777777777778, 'f': 0.4054054054054055}, 'I-gpe': {'p': 0.0, 'r': 0.0, 'f': 0.0}, 'B-art': {'p': 0.0, 'r': 0.0, 'f': 0.0}, 'B-nat': {'p': 0.0, 'r': 0.0, 'f': 0.0}, 'I-art': {'p': 0.0, 'r': 0.0, 'f': 0.0}, 'I-eve': {'p': 0.0, 'r': 0.0, 'f': 0.0}, 'I-nat': {'p': 0.0, 'r': 0.0, 'f': 0.0}}, 'speed': 788.6596459137991}\n"
     ]
    }
   ],
   "source": [
    "print(Evaluate_ner(test_data_json, nlp_ner_trf))"
   ]
  },
  {
   "cell_type": "markdown",
   "id": "e7dcc056",
   "metadata": {},
   "source": [
    "### Evaluating spancat models"
   ]
  },
  {
   "cell_type": "code",
   "execution_count": 8,
   "id": "e05b9b95",
   "metadata": {},
   "outputs": [],
   "source": [
    "# load best model from spancat training with tranformers\n",
    "nlp_spancat_trf = spacy.load(r\"E:\\Work\\Data_Science\\Projects\\Custom_NER\\models\\models_spancat_trf_acc\\model-best\")"
   ]
  },
  {
   "cell_type": "code",
   "execution_count": 9,
   "id": "4caefd59",
   "metadata": {},
   "outputs": [
    {
     "name": "stdout",
     "output_type": "stream",
     "text": [
      "{'token_acc': 1.0, 'token_p': 1.0, 'token_r': 1.0, 'token_f': 1.0, 'spans_sc_p': 0.0030941382904534445, 'spans_sc_r': 0.555677131554583, 'spans_sc_f': 0.006154009637428907, 'spans_sc_per_type': {'I-eve': {'p': 6.730562136549644e-05, 'r': 1.0, 'f': 0.00013460218324741225}, 'I-tim': {'p': 0.001865929891975394, 'r': 0.6934156378600823, 'f': 0.0037218445770957464}, 'B-art': {'p': 0.0004835452399237705, 'r': 0.3953488372093023, 'f': 0.000965909090909091}, 'B-geo': {'p': 0.012498693288730923, 'r': 0.6966496722505463, 'f': 0.02455680928357788}, 'B-gpe': {'p': 0.004147207847238501, 'r': 0.18638573743922204, 'f': 0.008113876492688693}, 'I-nat': {'p': 1.0417426270665569e-05, 'r': 0.6666666666666666, 'f': 2.083452697810812e-05}, 'I-org': {'p': 0.0037090199230636733, 'r': 0.2565528196981732, 'f': 0.007312324549488364}, 'I-art': {'p': 5.009442799677392e-05, 'r': 0.4, 'f': 0.00010017631030613881}, 'B-nat': {'p': 4.3273183608118046e-05, 'r': 0.5, 'f': 8.653887759075765e-05}, 'B-tim': {'p': 0.008580349674095792, 'r': 0.738944365192582, 'f': 0.01696372284944696}, 'I-geo': {'p': 0.0025241029065120844, 'r': 0.79585326953748, 'f': 0.005032245702673948}, 'B-per': {'p': 0.008008464230487507, 'r': 0.8052373158756138, 'f': 0.015859201237791314}, 'B-org': {'p': 0.006489274437315295, 'r': 0.8031988873435327, 'f': 0.012874531835205993}, 'I-gpe': {'p': 0.00030992760091242685, 'r': 0.7142857142857143, 'f': 0.000619586364143298}, 'B-eve': {'p': 8.691117677733357e-05, 'r': 0.3333333333333333, 'f': 0.00017377704405248067}, 'I-per': {'p': 0.004757135703555333, 'r': 0.02923076923076923, 'f': 0.00818260120585702}}, 'speed': 674.5590215349324}\n"
     ]
    }
   ],
   "source": [
    "print(Evaluate_spancat(test_data_json, nlp_spancat_trf))\n"
   ]
  },
  {
   "cell_type": "code",
   "execution_count": null,
   "id": "f7650922",
   "metadata": {},
   "outputs": [],
   "source": []
  }
 ],
 "metadata": {
  "kernelspec": {
   "display_name": "Python 3 (ipykernel)",
   "language": "python",
   "name": "python3"
  },
  "language_info": {
   "codemirror_mode": {
    "name": "ipython",
    "version": 3
   },
   "file_extension": ".py",
   "mimetype": "text/x-python",
   "name": "python",
   "nbconvert_exporter": "python",
   "pygments_lexer": "ipython3",
   "version": "3.10.4"
  }
 },
 "nbformat": 4,
 "nbformat_minor": 5
}
