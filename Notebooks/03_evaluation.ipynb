{
 "cells": [
  {
   "cell_type": "code",
   "execution_count": 5,
   "id": "5b24e123",
   "metadata": {},
   "outputs": [],
   "source": [
    "import spacy\n",
    "import json\n",
    "from spacy.training.example import Example"
   ]
  },
  {
   "cell_type": "markdown",
   "id": "5b2016a2",
   "metadata": {},
   "source": [
    "### Evaluation function"
   ]
  },
  {
   "cell_type": "code",
   "execution_count": 6,
   "id": "006a6079",
   "metadata": {},
   "outputs": [],
   "source": [
    "def Evaluate(data, model):\n",
    "    examples = []\n",
    "    for text, annots in data:\n",
    "        doc = model(text)\n",
    "        examples.append(Example.from_dict(doc, annots))\n",
    "        res = nlp.evaluate(examples)\n",
    "        return res"
   ]
  },
  {
   "cell_type": "code",
   "execution_count": 24,
   "id": "a7e63582",
   "metadata": {},
   "outputs": [],
   "source": [
    "# load test data\n",
    "with open(r'E:\\Work\\Data_Science\\Projects\\Custom_NER\\data\\Train\\test\\test_data_json.json', 'r') as f:\n",
    "    test_data_json = json.load(f)"
   ]
  },
  {
   "cell_type": "markdown",
   "id": "00e28a7b",
   "metadata": {},
   "source": [
    "### Evaluating ner model"
   ]
  },
  {
   "cell_type": "code",
   "execution_count": 7,
   "id": "0e5f6832",
   "metadata": {},
   "outputs": [],
   "source": [
    "# load best model from conventional training\n",
    "nlp_ner = spacy.load(r\"E:\\Work\\Data_Science\\Projects\\Custom_NER\\models\\model_ner_ef\\model-best\")"
   ]
  },
  {
   "cell_type": "code",
   "execution_count": 26,
   "id": "f8f0e498",
   "metadata": {},
   "outputs": [
    {
     "name": "stdout",
     "output_type": "stream",
     "text": [
      "{'token_acc': 1.0, 'token_p': 1.0, 'token_r': 1.0, 'token_f': 1.0, 'ents_p': 0.7647058823529411, 'ents_r': 0.65, 'ents_f': 0.7027027027027027, 'ents_per_type': {'B-per': {'p': 1.0, 'r': 0.6, 'f': 0.7499999999999999}, 'I-per': {'p': 0.8, 'r': 0.6666666666666666, 'f': 0.7272727272727272}, 'B-tim': {'p': 1.0, 'r': 1.0, 'f': 1.0}, 'B-org': {'p': 0.6666666666666666, 'r': 1.0, 'f': 0.8}, 'B-geo': {'p': 1.0, 'r': 0.75, 'f': 0.8571428571428571}, 'I-org': {'p': 0.0, 'r': 0.0, 'f': 0.0}, 'B-gpe': {'p': 0.0, 'r': 0.0, 'f': 0.0}, 'I-geo': {'p': 0.0, 'r': 0.0, 'f': 0.0}}, 'speed': 4172.372080253434}\n"
     ]
    }
   ],
   "source": [
    "result = Evaluate(test_data_json, nlp_ner)\n",
    "print(result)"
   ]
  },
  {
   "cell_type": "code",
   "execution_count": 8,
   "id": "2a6445f2",
   "metadata": {},
   "outputs": [],
   "source": [
    "# load best model from conventional training\n",
    "nlp_ner_trf = spacy.load(r\"E:\\Work\\Data_Science\\Projects\\Custom_NER\\models\\model_ner_trf_acc\\model-best\")"
   ]
  },
  {
   "cell_type": "code",
   "execution_count": 28,
   "id": "f44c8fe9",
   "metadata": {},
   "outputs": [
    {
     "name": "stdout",
     "output_type": "stream",
     "text": [
      "{'token_acc': 1.0, 'token_p': 1.0, 'token_r': 1.0, 'token_f': 1.0, 'ents_p': 0.7142857142857143, 'ents_r': 0.75, 'ents_f': 0.7317073170731706, 'ents_per_type': {'B-geo': {'p': 0.4, 'r': 0.5, 'f': 0.4444444444444445}, 'B-per': {'p': 1.0, 'r': 0.8, 'f': 0.888888888888889}, 'I-per': {'p': 0.8333333333333334, 'r': 0.8333333333333334, 'f': 0.8333333333333334}, 'B-tim': {'p': 1.0, 'r': 1.0, 'f': 1.0}, 'B-gpe': {'p': 1.0, 'r': 1.0, 'f': 1.0}, 'I-org': {'p': 0.0, 'r': 0.0, 'f': 0.0}, 'B-org': {'p': 0.5, 'r': 0.5, 'f': 0.5}, 'I-geo': {'p': 1.0, 'r': 1.0, 'f': 1.0}}, 'speed': 3709.6240918084814}\n"
     ]
    }
   ],
   "source": [
    "result = Evaluate(test_data_json, nlp_ner_trf)\n",
    "print(result)"
   ]
  },
  {
   "cell_type": "markdown",
   "id": "e7dcc056",
   "metadata": {},
   "source": [
    "### Evaluating spancat models"
   ]
  },
  {
   "cell_type": "code",
   "execution_count": 30,
   "id": "e05b9b95",
   "metadata": {},
   "outputs": [],
   "source": [
    "# load best model from spancat training with tranformers\n",
    "nlp_spancat_trf = spacy.load(r\"E:\\Work\\Data_Science\\Projects\\Custom_NER\\models\\models_spancat_trf_acc\\model-best\")"
   ]
  },
  {
   "cell_type": "code",
   "execution_count": 31,
   "id": "8686ffb7",
   "metadata": {},
   "outputs": [
    {
     "name": "stdout",
     "output_type": "stream",
     "text": [
      "{'token_acc': 1.0, 'token_p': 1.0, 'token_r': 1.0, 'token_f': 1.0, 'ents_p': 0.7647058823529411, 'ents_r': 0.65, 'ents_f': 0.7027027027027027, 'ents_per_type': {'B-per': {'p': 1.0, 'r': 0.6, 'f': 0.7499999999999999}, 'I-per': {'p': 0.8, 'r': 0.6666666666666666, 'f': 0.7272727272727272}, 'B-tim': {'p': 1.0, 'r': 1.0, 'f': 1.0}, 'B-org': {'p': 0.6666666666666666, 'r': 1.0, 'f': 0.8}, 'B-geo': {'p': 1.0, 'r': 0.75, 'f': 0.8571428571428571}, 'I-org': {'p': 0.0, 'r': 0.0, 'f': 0.0}, 'B-gpe': {'p': 0.0, 'r': 0.0, 'f': 0.0}, 'I-geo': {'p': 0.0, 'r': 0.0, 'f': 0.0}}, 'speed': 4013.79285966088}\n"
     ]
    }
   ],
   "source": [
    "result = Evaluate_ner(test_data_json, nlp_spancat_trf)\n",
    "print(result)"
   ]
  },
  {
   "cell_type": "code",
   "execution_count": null,
   "id": "4cdbe498",
   "metadata": {},
   "outputs": [],
   "source": []
  }
 ],
 "metadata": {
  "kernelspec": {
   "display_name": "Python 3 (ipykernel)",
   "language": "python",
   "name": "python3"
  },
  "language_info": {
   "codemirror_mode": {
    "name": "ipython",
    "version": 3
   },
   "file_extension": ".py",
   "mimetype": "text/x-python",
   "name": "python",
   "nbconvert_exporter": "python",
   "pygments_lexer": "ipython3",
   "version": "3.10.4"
  }
 },
 "nbformat": 4,
 "nbformat_minor": 5
}
